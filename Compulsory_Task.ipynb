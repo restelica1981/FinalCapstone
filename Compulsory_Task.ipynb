{
 "cells": [
  {
   "attachments": {},
   "cell_type": "markdown",
   "metadata": {},
   "source": [
    "# PCA Report\n",
    "### Data Exploration\n",
    "The first step in any data analysis is to explore the dataset and understand its characteristics. This dataset contains statistics on arrests per 100,000 residents for assault, murder, and rape in each of the 50 US states in 1973. It also contains the percentage of the population living in urban areas."
   ]
  },
  {
   "cell_type": "code",
   "execution_count": 97,
   "metadata": {},
   "outputs": [
    {
     "data": {
      "text/html": [
       "<div>\n",
       "<style scoped>\n",
       "    .dataframe tbody tr th:only-of-type {\n",
       "        vertical-align: middle;\n",
       "    }\n",
       "\n",
       "    .dataframe tbody tr th {\n",
       "        vertical-align: top;\n",
       "    }\n",
       "\n",
       "    .dataframe thead th {\n",
       "        text-align: right;\n",
       "    }\n",
       "</style>\n",
       "<table border=\"1\" class=\"dataframe\">\n",
       "  <thead>\n",
       "    <tr style=\"text-align: right;\">\n",
       "      <th></th>\n",
       "      <th>City</th>\n",
       "      <th>Murder</th>\n",
       "      <th>Assault</th>\n",
       "      <th>UrbanPop</th>\n",
       "      <th>Rape</th>\n",
       "    </tr>\n",
       "  </thead>\n",
       "  <tbody>\n",
       "    <tr>\n",
       "      <th>0</th>\n",
       "      <td>Alabama</td>\n",
       "      <td>13.2</td>\n",
       "      <td>236</td>\n",
       "      <td>58</td>\n",
       "      <td>21.2</td>\n",
       "    </tr>\n",
       "    <tr>\n",
       "      <th>1</th>\n",
       "      <td>Alaska</td>\n",
       "      <td>10.0</td>\n",
       "      <td>263</td>\n",
       "      <td>48</td>\n",
       "      <td>44.5</td>\n",
       "    </tr>\n",
       "    <tr>\n",
       "      <th>2</th>\n",
       "      <td>Arizona</td>\n",
       "      <td>8.1</td>\n",
       "      <td>294</td>\n",
       "      <td>80</td>\n",
       "      <td>31.0</td>\n",
       "    </tr>\n",
       "    <tr>\n",
       "      <th>3</th>\n",
       "      <td>Arkansas</td>\n",
       "      <td>8.8</td>\n",
       "      <td>190</td>\n",
       "      <td>50</td>\n",
       "      <td>19.5</td>\n",
       "    </tr>\n",
       "    <tr>\n",
       "      <th>4</th>\n",
       "      <td>California</td>\n",
       "      <td>9.0</td>\n",
       "      <td>276</td>\n",
       "      <td>91</td>\n",
       "      <td>40.6</td>\n",
       "    </tr>\n",
       "  </tbody>\n",
       "</table>\n",
       "</div>"
      ],
      "text/plain": [
       "         City  Murder  Assault  UrbanPop  Rape\n",
       "0     Alabama    13.2      236        58  21.2\n",
       "1      Alaska    10.0      263        48  44.5\n",
       "2     Arizona     8.1      294        80  31.0\n",
       "3    Arkansas     8.8      190        50  19.5\n",
       "4  California     9.0      276        91  40.6"
      ]
     },
     "execution_count": 97,
     "metadata": {},
     "output_type": "execute_result"
    }
   ],
   "source": [
    "# import libraries\n",
    "import pandas as pd\n",
    "import numpy as np\n",
    "from sklearn.preprocessing import StandardScaler\n",
    "from sklearn.decomposition import PCA\n",
    "import matplotlib.pyplot as plt\n",
    "from sklearn.cluster import KMeans\n",
    "from sklearn.preprocessing import OrdinalEncoder\n",
    "\n",
    "#read in dataset\n",
    "df = pd.read_csv('UsArrests.csv')\n",
    "df.head()\n"
   ]
  },
  {
   "cell_type": "code",
   "execution_count": 98,
   "metadata": {},
   "outputs": [
    {
     "data": {
      "text/plain": [
       "City         object\n",
       "Murder      float64\n",
       "Assault       int64\n",
       "UrbanPop      int64\n",
       "Rape        float64\n",
       "dtype: object"
      ]
     },
     "execution_count": 98,
     "metadata": {},
     "output_type": "execute_result"
    }
   ],
   "source": [
    "# confirm the different types of data\n",
    "df.dtypes"
   ]
  },
  {
   "cell_type": "code",
   "execution_count": 99,
   "metadata": {},
   "outputs": [],
   "source": [
    "# Remove the non-numeric column\n",
    "df = df.drop(columns=['City'])\n",
    "\n",
    "# Convert the DataFrame to float\n",
    "df = df.astype('float64')"
   ]
  },
  {
   "attachments": {},
   "cell_type": "markdown",
   "metadata": {},
   "source": [
    "The dataset has 50 rows (one for each US state) and 5 columns (City, Murder, Assault, UrbanPop and Rape)"
   ]
  },
  {
   "attachments": {},
   "cell_type": "markdown",
   "metadata": {},
   "source": [
    "### Data Preprocessing"
   ]
  },
  {
   "attachments": {},
   "cell_type": "markdown",
   "metadata": {},
   "source": [
    "Before analysing any data it needs to be processed.  I  will start with standardising the data because each variable is measured on a different scale."
   ]
  },
  {
   "cell_type": "code",
   "execution_count": 100,
   "metadata": {},
   "outputs": [
    {
     "name": "stdout",
     "output_type": "stream",
     "text": [
      "     Murder   Assault  UrbanPop      Rape\n",
      "0  1.255179  0.790787 -0.526195 -0.003451\n",
      "1  0.513019  1.118060 -1.224067  2.509424\n",
      "2  0.072361  1.493817  1.009122  1.053466\n",
      "3  0.234708  0.233212 -1.084492 -0.186794\n",
      "4  0.281093  1.275635  1.776781  2.088814\n"
     ]
    }
   ],
   "source": [
    "scaler = StandardScaler()\n",
    "df_scaled = scaler.fit_transform(df)\n",
    "df_scaled = pd.DataFrame(df_scaled, index=df.index, columns=df.columns)\n",
    "print(df_scaled.head())"
   ]
  },
  {
   "attachments": {},
   "cell_type": "markdown",
   "metadata": {},
   "source": [
    "Each variable now has a mean of zero and a standard deviation of 1."
   ]
  },
  {
   "attachments": {},
   "cell_type": "markdown",
   "metadata": {},
   "source": [
    "### Principal Component Anaylsis (PCA)\n",
    "Now the data has been preprocessed, I can perform the PCA. PCA is a technique used to reduce the dimensionality of high-dimensional datasets by transforming them into a lower-dimensional space while retaining most of the variance in the data."
   ]
  },
  {
   "cell_type": "code",
   "execution_count": 101,
   "metadata": {},
   "outputs": [
    {
     "name": "stdout",
     "output_type": "stream",
     "text": [
      "        PC1       PC2\n",
      "0  0.985566  1.133392\n",
      "1  1.950138  1.073213\n",
      "2  1.763164 -0.745957\n",
      "3 -0.141420  1.119797\n",
      "4  2.523980 -1.542934\n"
     ]
    }
   ],
   "source": [
    "\n",
    "\n",
    "pca = PCA(n_components=2)\n",
    "df_pca = pca.fit_transform(df_scaled)\n",
    "df_pca = pd.DataFrame(df_pca, index=df.index, columns=['PC1', 'PC2'])\n",
    "print(df_pca.head())\n"
   ]
  },
  {
   "attachments": {},
   "cell_type": "markdown",
   "metadata": {},
   "source": [
    "The dataset has been reduced into 2 components (PC1 and PC2). These are linear combinations of the variables.\n",
    "Below I will visualise the data onto this 2D space."
   ]
  },
  {
   "cell_type": "code",
   "execution_count": 102,
   "metadata": {},
   "outputs": [
    {
     "data": {
      "image/png": "[encoded data removed]",
      "text/plain": [
       "<Figure size 800x600 with 1 Axes>"
      ]
     },
     "metadata": {},
     "output_type": "display_data"
    }
   ],
   "source": [
    "\n",
    "\n",
    "plt.figure(figsize=(8, 6))\n",
    "plt.scatter(df_pca['PC1'], df_pca['PC2'])\n",
    "plt.xlabel('PC1')\n",
    "plt.ylabel('PC2')\n",
    "plt.title('PCA Plot')\n",
    "for i, state in enumerate(df_pca.index):\n",
    "    plt.annotate(state, (df_pca.iloc[i, 0], df_pca.iloc[i, 1]))\n",
    "plt.show()\n",
    "\n"
   ]
  },
  {
   "attachments": {},
   "cell_type": "markdown",
   "metadata": {},
   "source": [
    "The data in this plot is clusters into 3 groups: \n",
    "States with high assault and murder rates (Alaska, Arizona, Florida, Louisiana)\n",
    "States with average assault and murder rates but high rape rates (Delaware, Michigan)\n",
    "States with low crime rates (Maine, Minnesota, Vermont)\n",
    "\n",
    "The 2 principal components can be interpreted as follows:\n",
    "\n",
    "PC1: This component is strongly correlated with all the variables in the dataset, but most strongly with assault, murder, and rape. States with high values of PC1 have high crime rates.\n",
    "\n",
    "PC2: This component is primarily correlated with the percentage of the population living in urban areas. States with high values of PC2 have a higher percentage of their population living in urban areas."
   ]
  },
  {
   "attachments": {},
   "cell_type": "markdown",
   "metadata": {},
   "source": [
    "\n",
    "## Loadings\n",
    "\n",
    "Calculate the loadings of each variable on the two principal components:"
   ]
  },
  {
   "cell_type": "code",
   "execution_count": 104,
   "metadata": {},
   "outputs": [
    {
     "name": "stdout",
     "output_type": "stream",
     "text": [
      "               PC1       PC2\n",
      "Murder    0.535899  0.418181\n",
      "Assault   0.583184  0.187986\n",
      "UrbanPop  0.278191 -0.872806\n",
      "Rape      0.543432 -0.167319\n"
     ]
    }
   ],
   "source": [
    "loadings = pd.DataFrame(pca.components_.T, columns=['PC1', 'PC2'], index=df.columns)\n",
    "print(loadings)\n"
   ]
  },
  {
   "attachments": {},
   "cell_type": "markdown",
   "metadata": {},
   "source": [
    "PC1 is strongly correlated with all the variables, but most strongly with assault, murder, and rape. This suggests that states with high values of PC1 have high crime rates.\n",
    "PC2 is primarily correlated with the percentage of the population living in urban areas. This suggests that states with high values of PC2 have a higher percentage of their population living in urban areas.\n"
   ]
  },
  {
   "attachments": {},
   "cell_type": "markdown",
   "metadata": {},
   "source": [
    " ## Clustering Analysis\n",
    "### K-Means Clustering"
   ]
  },
  {
   "cell_type": "code",
   "execution_count": 105,
   "metadata": {},
   "outputs": [
    {
     "name": "stderr",
     "output_type": "stream",
     "text": [
      "c:\\Users\\Carol\\AppData\\Local\\Programs\\Python\\Python311\\Lib\\site-packages\\sklearn\\cluster\\_kmeans.py:870: FutureWarning: The default value of `n_init` will change from 10 to 'auto' in 1.4. Set the value of `n_init` explicitly to suppress the warning\n",
      "  warnings.warn(\n"
     ]
    },
    {
     "data": {
      "text/html": [
       "<style>#sk-container-id-4 {color: black;background-color: white;}#sk-container-id-4 pre{padding: 0;}#sk-container-id-4 div.sk-toggleable {background-color: white;}#sk-container-id-4 label.sk-toggleable__label {cursor: pointer;display: block;width: 100%;margin-bottom: 0;padding: 0.3em;box-sizing: border-box;text-align: center;}#sk-container-id-4 label.sk-toggleable__label-arrow:before {content: \"▸\";float: left;margin-right: 0.25em;color: #696969;}#sk-container-id-4 label.sk-toggleable__label-arrow:hover:before {color: black;}#sk-container-id-4 div.sk-estimator:hover label.sk-toggleable__label-arrow:before {color: black;}#sk-container-id-4 div.sk-toggleable__content {max-height: 0;max-width: 0;overflow: hidden;text-align: left;background-color: #f0f8ff;}#sk-container-id-4 div.sk-toggleable__content pre {margin: 0.2em;color: black;border-radius: 0.25em;background-color: #f0f8ff;}#sk-container-id-4 input.sk-toggleable__control:checked~div.sk-toggleable__content {max-height: 200px;max-width: 100%;overflow: auto;}#sk-container-id-4 input.sk-toggleable__control:checked~label.sk-toggleable__label-arrow:before {content: \"▾\";}#sk-container-id-4 div.sk-estimator input.sk-toggleable__control:checked~label.sk-toggleable__label {background-color: #d4ebff;}#sk-container-id-4 div.sk-label input.sk-toggleable__control:checked~label.sk-toggleable__label {background-color: #d4ebff;}#sk-container-id-4 input.sk-hidden--visually {border: 0;clip: rect(1px 1px 1px 1px);clip: rect(1px, 1px, 1px, 1px);height: 1px;margin: -1px;overflow: hidden;padding: 0;position: absolute;width: 1px;}#sk-container-id-4 div.sk-estimator {font-family: monospace;background-color: #f0f8ff;border: 1px dotted black;border-radius: 0.25em;box-sizing: border-box;margin-bottom: 0.5em;}#sk-container-id-4 div.sk-estimator:hover {background-color: #d4ebff;}#sk-container-id-4 div.sk-parallel-item::after {content: \"\";width: 100%;border-bottom: 1px solid gray;flex-grow: 1;}#sk-container-id-4 div.sk-label:hover label.sk-toggleable__label {background-color: #d4ebff;}#sk-container-id-4 div.sk-serial::before {content: \"\";position: absolute;border-left: 1px solid gray;box-sizing: border-box;top: 0;bottom: 0;left: 50%;z-index: 0;}#sk-container-id-4 div.sk-serial {display: flex;flex-direction: column;align-items: center;background-color: white;padding-right: 0.2em;padding-left: 0.2em;position: relative;}#sk-container-id-4 div.sk-item {position: relative;z-index: 1;}#sk-container-id-4 div.sk-parallel {display: flex;align-items: stretch;justify-content: center;background-color: white;position: relative;}#sk-container-id-4 div.sk-item::before, #sk-container-id-4 div.sk-parallel-item::before {content: \"\";position: absolute;border-left: 1px solid gray;box-sizing: border-box;top: 0;bottom: 0;left: 50%;z-index: -1;}#sk-container-id-4 div.sk-parallel-item {display: flex;flex-direction: column;z-index: 1;position: relative;background-color: white;}#sk-container-id-4 div.sk-parallel-item:first-child::after {align-self: flex-end;width: 50%;}#sk-container-id-4 div.sk-parallel-item:last-child::after {align-self: flex-start;width: 50%;}#sk-container-id-4 div.sk-parallel-item:only-child::after {width: 0;}#sk-container-id-4 div.sk-dashed-wrapped {border: 1px dashed gray;margin: 0 0.4em 0.5em 0.4em;box-sizing: border-box;padding-bottom: 0.4em;background-color: white;}#sk-container-id-4 div.sk-label label {font-family: monospace;font-weight: bold;display: inline-block;line-height: 1.2em;}#sk-container-id-4 div.sk-label-container {text-align: center;}#sk-container-id-4 div.sk-container {/* jupyter's `normalize.less` sets `[hidden] { display: none; }` but bootstrap.min.css set `[hidden] { display: none !important; }` so we also need the `!important` here to be able to override the default hidden behavior on the sphinx rendered scikit-learn.org. See: https://github.com/scikit-learn/scikit-learn/issues/21755 */display: inline-block !important;position: relative;}#sk-container-id-4 div.sk-text-repr-fallback {display: none;}</style><div id=\"sk-container-id-4\" class=\"sk-top-container\"><div class=\"sk-text-repr-fallback\"><pre>KMeans(n_clusters=3)</pre><b>In a Jupyter environment, please rerun this cell to show the HTML representation or trust the notebook. <br />On GitHub, the HTML representation is unable to render, please try loading this page with nbviewer.org.</b></div><div class=\"sk-container\" hidden><div class=\"sk-item\"><div class=\"sk-estimator sk-toggleable\"><input class=\"sk-toggleable__control sk-hidden--visually\" id=\"sk-estimator-id-4\" type=\"checkbox\" checked><label for=\"sk-estimator-id-4\" class=\"sk-toggleable__label sk-toggleable__label-arrow\">KMeans</label><div class=\"sk-toggleable__content\"><pre>KMeans(n_clusters=3)</pre></div></div></div></div></div>"
      ],
      "text/plain": [
       "KMeans(n_clusters=3)"
      ]
     },
     "execution_count": 105,
     "metadata": {},
     "output_type": "execute_result"
    }
   ],
   "source": [
    "\n",
    "\n",
    "kmeans = KMeans(n_clusters=3)\n",
    "kmeans.fit(df_scaled)\n"
   ]
  },
  {
   "attachments": {},
   "cell_type": "markdown",
   "metadata": {},
   "source": [
    "Now the K-means model is fit I can use it to predict cluster labels for each state below."
   ]
  },
  {
   "cell_type": "code",
   "execution_count": 107,
   "metadata": {},
   "outputs": [
    {
     "name": "stdout",
     "output_type": "stream",
     "text": [
      "    Murder  Assault  UrbanPop  Rape  Cluster\n",
      "0     13.2    236.0      58.0  21.2        1\n",
      "1     10.0    263.0      48.0  44.5        1\n",
      "2      8.1    294.0      80.0  31.0        1\n",
      "3      8.8    190.0      50.0  19.5        0\n",
      "4      9.0    276.0      91.0  40.6        1\n",
      "5      7.9    204.0      78.0  38.7        1\n",
      "6      3.3    110.0      77.0  11.1        2\n",
      "7      5.9    238.0      72.0  15.8        2\n",
      "8     15.4    335.0      80.0  31.9        1\n",
      "9     17.4    211.0      60.0  25.8        1\n",
      "10     5.3     46.0      83.0  20.2        2\n",
      "11     2.6    120.0      54.0  14.2        0\n",
      "12    10.4    249.0      83.0  24.0        1\n",
      "13     7.2    113.0      65.0  21.0        2\n",
      "14     2.2     56.0      57.0  11.3        0\n",
      "15     6.0    115.0      66.0  18.0        2\n",
      "16     9.7    109.0      52.0  16.3        0\n",
      "17    15.4    249.0      66.0  22.2        1\n",
      "18     2.1     83.0      51.0   7.8        0\n",
      "19    11.3    300.0      67.0  27.8        1\n",
      "20     4.4    149.0      85.0  16.3        2\n",
      "21    12.1    255.0      74.0  35.1        1\n",
      "22     2.7     72.0      66.0  14.9        0\n",
      "23    16.1    259.0      44.0  17.1        1\n",
      "24     9.0    178.0      70.0  28.2        1\n",
      "25     6.0    109.0      53.0  16.4        0\n",
      "26     4.3    102.0      62.0  16.5        0\n",
      "27    12.2    252.0      81.0  46.0        1\n",
      "28     2.1     57.0      56.0   9.5        0\n",
      "29     7.4    159.0      89.0  18.8        2\n",
      "30    11.4    285.0      70.0  32.1        1\n",
      "31    11.1    254.0      86.0  26.1        1\n",
      "32    13.0    337.0      45.0  16.1        1\n",
      "33     0.8     45.0      44.0   7.3        0\n",
      "34     7.3    120.0      75.0  21.4        2\n",
      "35     6.6    151.0      68.0  20.0        2\n",
      "36     4.9    159.0      67.0  29.3        2\n",
      "37     6.3    106.0      72.0  14.9        2\n",
      "38     3.4    174.0      87.0   8.3        2\n",
      "39    14.4    279.0      48.0  22.5        1\n",
      "40     3.8     86.0      45.0  12.8        0\n",
      "41    13.2    188.0      59.0  26.9        1\n",
      "42    12.7    201.0      80.0  25.5        1\n",
      "43     3.2    120.0      80.0  22.9        2\n",
      "44     2.2     48.0      32.0  11.2        0\n",
      "45     8.5    156.0      63.0  20.7        2\n",
      "46     4.0    145.0      73.0  26.2        2\n",
      "47     5.7     81.0      39.0   9.3        0\n",
      "48     2.6     53.0      66.0  10.8        0\n",
      "49     6.8    161.0      60.0  15.6        2\n"
     ]
    }
   ],
   "source": [
    "df_clusters = df.copy()\n",
    "df_clusters['Cluster'] = kmeans.labels_\n",
    "print(df_clusters)\n"
   ]
  }
 ],
 "metadata": {
  "kernelspec": {
   "display_name": "Python 3",
   "language": "python",
   "name": "python3"
  },
  "language_info": {
   "codemirror_mode": {
    "name": "ipython",
    "version": 3
   },
   "file_extension": ".py",
   "mimetype": "text/x-python",
   "name": "python",
   "nbconvert_exporter": "python",
   "pygments_lexer": "ipython3",
   "version": "3.11.1"
  },
  "orig_nbformat": 4,
  "vscode": {
   "interpreter": {
    "hash": "e220a4e28e892a6a4d12a0628af8b4b5a4d517e8c7d565680b1694ce0ec6d266"
   }
  }
 },
 "nbformat": 4,
 "nbformat_minor": 2
}
